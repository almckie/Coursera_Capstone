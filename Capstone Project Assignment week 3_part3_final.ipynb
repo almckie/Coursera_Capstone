{
 "cells": [
  {
   "cell_type": "markdown",
   "metadata": {
    "collapsed": true
   },
   "source": [
    "# Capstone Project\n",
    "## Assignment week 3 - Segmenting & Clustering Neighborhoods in Toronto"
   ]
  },
  {
   "cell_type": "code",
   "execution_count": 3,
   "metadata": {},
   "outputs": [],
   "source": [
    "#importing Libraries\n",
    "import requests\n",
    "import lxml.html as lh\n",
    "import bs4 as bs\n",
    "import urllib.request\n",
    "import numpy as np \n",
    "import pandas as pd\n",
    "import matplotlib.pyplot as plt\n",
    "import seaborn as sns"
   ]
  },
  {
   "cell_type": "code",
   "execution_count": 4,
   "metadata": {},
   "outputs": [
    {
     "data": {
      "text/html": [
       "<div>\n",
       "<style scoped>\n",
       "    .dataframe tbody tr th:only-of-type {\n",
       "        vertical-align: middle;\n",
       "    }\n",
       "\n",
       "    .dataframe tbody tr th {\n",
       "        vertical-align: top;\n",
       "    }\n",
       "\n",
       "    .dataframe thead th {\n",
       "        text-align: right;\n",
       "    }\n",
       "</style>\n",
       "<table border=\"1\" class=\"dataframe\">\n",
       "  <thead>\n",
       "    <tr style=\"text-align: right;\">\n",
       "      <th></th>\n",
       "      <th>Postal Code</th>\n",
       "      <th>Borough</th>\n",
       "      <th>Neighbourhood</th>\n",
       "    </tr>\n",
       "  </thead>\n",
       "  <tbody>\n",
       "    <tr>\n",
       "      <th>0</th>\n",
       "      <td>M1A</td>\n",
       "      <td>Not assigned</td>\n",
       "      <td>Not assigned</td>\n",
       "    </tr>\n",
       "    <tr>\n",
       "      <th>1</th>\n",
       "      <td>M2A</td>\n",
       "      <td>Not assigned</td>\n",
       "      <td>Not assigned</td>\n",
       "    </tr>\n",
       "    <tr>\n",
       "      <th>2</th>\n",
       "      <td>M3A</td>\n",
       "      <td>North York</td>\n",
       "      <td>Parkwoods</td>\n",
       "    </tr>\n",
       "    <tr>\n",
       "      <th>3</th>\n",
       "      <td>M4A</td>\n",
       "      <td>North York</td>\n",
       "      <td>Victoria Village</td>\n",
       "    </tr>\n",
       "    <tr>\n",
       "      <th>4</th>\n",
       "      <td>M5A</td>\n",
       "      <td>Downtown Toronto</td>\n",
       "      <td>Regent Park, Harbourfront</td>\n",
       "    </tr>\n",
       "  </tbody>\n",
       "</table>\n",
       "</div>"
      ],
      "text/plain": [
       "  Postal Code           Borough              Neighbourhood\n",
       "0         M1A      Not assigned               Not assigned\n",
       "1         M2A      Not assigned               Not assigned\n",
       "2         M3A        North York                  Parkwoods\n",
       "3         M4A        North York           Victoria Village\n",
       "4         M5A  Downtown Toronto  Regent Park, Harbourfront"
      ]
     },
     "execution_count": 4,
     "metadata": {},
     "output_type": "execute_result"
    }
   ],
   "source": [
    "#Getting the data from url\n",
    "url = \"https://en.wikipedia.org/wiki/List_of_postal_codes_of_Canada:_M\"\n",
    "res = requests.get(url)\n",
    "soup = bs.BeautifulSoup(res.content,'lxml')\n",
    "table = soup.find_all('table')[0]\n",
    "df = pd.read_html(str(table))\n",
    "data = pd.read_json(df[0].to_json(orient='records'))\n",
    "data.head()"
   ]
  },
  {
   "cell_type": "code",
   "execution_count": 5,
   "metadata": {},
   "outputs": [],
   "source": [
    "#Choosing only data where field Borough doesn't have not assigned value\n",
    "raw_data_selected = data[data['Borough'] != 'Not assigned']"
   ]
  },
  {
   "cell_type": "code",
   "execution_count": 9,
   "metadata": {},
   "outputs": [],
   "source": [
    "#Grouping Data\n",
    "raw_data_selected = raw_data_selected.groupby(['Borough', 'Postal Code'], as_index=False).agg(','.join)"
   ]
  },
  {
   "cell_type": "code",
   "execution_count": 10,
   "metadata": {
    "scrolled": true
   },
   "outputs": [
    {
     "data": {
      "text/html": [
       "<div>\n",
       "<style scoped>\n",
       "    .dataframe tbody tr th:only-of-type {\n",
       "        vertical-align: middle;\n",
       "    }\n",
       "\n",
       "    .dataframe tbody tr th {\n",
       "        vertical-align: top;\n",
       "    }\n",
       "\n",
       "    .dataframe thead th {\n",
       "        text-align: right;\n",
       "    }\n",
       "</style>\n",
       "<table border=\"1\" class=\"dataframe\">\n",
       "  <thead>\n",
       "    <tr style=\"text-align: right;\">\n",
       "      <th></th>\n",
       "      <th>Borough</th>\n",
       "      <th>Postal Code</th>\n",
       "      <th>Neighbourhood</th>\n",
       "    </tr>\n",
       "  </thead>\n",
       "  <tbody>\n",
       "    <tr>\n",
       "      <th>0</th>\n",
       "      <td>Central Toronto</td>\n",
       "      <td>M4N</td>\n",
       "      <td>Lawrence Park</td>\n",
       "    </tr>\n",
       "    <tr>\n",
       "      <th>1</th>\n",
       "      <td>Central Toronto</td>\n",
       "      <td>M4P</td>\n",
       "      <td>Davisville North</td>\n",
       "    </tr>\n",
       "    <tr>\n",
       "      <th>2</th>\n",
       "      <td>Central Toronto</td>\n",
       "      <td>M4R</td>\n",
       "      <td>North Toronto West, Lawrence Park</td>\n",
       "    </tr>\n",
       "    <tr>\n",
       "      <th>3</th>\n",
       "      <td>Central Toronto</td>\n",
       "      <td>M4S</td>\n",
       "      <td>Davisville</td>\n",
       "    </tr>\n",
       "    <tr>\n",
       "      <th>4</th>\n",
       "      <td>Central Toronto</td>\n",
       "      <td>M4T</td>\n",
       "      <td>Moore Park, Summerhill East</td>\n",
       "    </tr>\n",
       "  </tbody>\n",
       "</table>\n",
       "</div>"
      ],
      "text/plain": [
       "           Borough Postal Code                      Neighbourhood\n",
       "0  Central Toronto         M4N                      Lawrence Park\n",
       "1  Central Toronto         M4P                   Davisville North\n",
       "2  Central Toronto         M4R  North Toronto West, Lawrence Park\n",
       "3  Central Toronto         M4S                         Davisville\n",
       "4  Central Toronto         M4T        Moore Park, Summerhill East"
      ]
     },
     "execution_count": 10,
     "metadata": {},
     "output_type": "execute_result"
    }
   ],
   "source": [
    "raw_data_selected.head()"
   ]
  },
  {
   "cell_type": "code",
   "execution_count": 11,
   "metadata": {},
   "outputs": [],
   "source": [
    "#Replacing values in Neighbourhood field with Borough where Neighbourhood is not assigned\n",
    "raw_data_selected['Neighbourhood'] = np.where(raw_data_selected['Neighbourhood'] == 'Not assigned', raw_data_selected['Borough'], raw_data_selected['Neighbourhood'])"
   ]
  },
  {
   "cell_type": "code",
   "execution_count": 12,
   "metadata": {},
   "outputs": [
    {
     "data": {
      "text/plain": [
       "(103, 3)"
      ]
     },
     "execution_count": 12,
     "metadata": {},
     "output_type": "execute_result"
    }
   ],
   "source": [
    "#Shape of Data\n",
    "raw_data_selected.shape"
   ]
  },
  {
   "cell_type": "markdown",
   "metadata": {},
   "source": [
    "## Part 2 - Use the Geocoder package or the csv file to create the following dataframe:"
   ]
  },
  {
   "cell_type": "code",
   "execution_count": 13,
   "metadata": {},
   "outputs": [
    {
     "data": {
      "text/html": [
       "<div>\n",
       "<style scoped>\n",
       "    .dataframe tbody tr th:only-of-type {\n",
       "        vertical-align: middle;\n",
       "    }\n",
       "\n",
       "    .dataframe tbody tr th {\n",
       "        vertical-align: top;\n",
       "    }\n",
       "\n",
       "    .dataframe thead th {\n",
       "        text-align: right;\n",
       "    }\n",
       "</style>\n",
       "<table border=\"1\" class=\"dataframe\">\n",
       "  <thead>\n",
       "    <tr style=\"text-align: right;\">\n",
       "      <th></th>\n",
       "      <th>Postal Code</th>\n",
       "      <th>Latitude</th>\n",
       "      <th>Longitude</th>\n",
       "    </tr>\n",
       "  </thead>\n",
       "  <tbody>\n",
       "    <tr>\n",
       "      <th>0</th>\n",
       "      <td>M1B</td>\n",
       "      <td>43.806686</td>\n",
       "      <td>-79.194353</td>\n",
       "    </tr>\n",
       "    <tr>\n",
       "      <th>1</th>\n",
       "      <td>M1C</td>\n",
       "      <td>43.784535</td>\n",
       "      <td>-79.160497</td>\n",
       "    </tr>\n",
       "    <tr>\n",
       "      <th>2</th>\n",
       "      <td>M1E</td>\n",
       "      <td>43.763573</td>\n",
       "      <td>-79.188711</td>\n",
       "    </tr>\n",
       "    <tr>\n",
       "      <th>3</th>\n",
       "      <td>M1G</td>\n",
       "      <td>43.770992</td>\n",
       "      <td>-79.216917</td>\n",
       "    </tr>\n",
       "    <tr>\n",
       "      <th>4</th>\n",
       "      <td>M1H</td>\n",
       "      <td>43.773136</td>\n",
       "      <td>-79.239476</td>\n",
       "    </tr>\n",
       "  </tbody>\n",
       "</table>\n",
       "</div>"
      ],
      "text/plain": [
       "  Postal Code   Latitude  Longitude\n",
       "0         M1B  43.806686 -79.194353\n",
       "1         M1C  43.784535 -79.160497\n",
       "2         M1E  43.763573 -79.188711\n",
       "3         M1G  43.770992 -79.216917\n",
       "4         M1H  43.773136 -79.239476"
      ]
     },
     "execution_count": 13,
     "metadata": {},
     "output_type": "execute_result"
    }
   ],
   "source": [
    "geospatial_url = \"https://cocl.us/Geospatial_data\"\n",
    "geospatial_data = pd.read_csv(geospatial_url)\n",
    "geospatial_data.head()"
   ]
  },
  {
   "cell_type": "code",
   "execution_count": 14,
   "metadata": {},
   "outputs": [],
   "source": [
    "#Merging dataframes\n",
    "merged_data = pd.merge(raw_data_selected, geospatial_data, on='Postal Code')"
   ]
  },
  {
   "cell_type": "code",
   "execution_count": 15,
   "metadata": {},
   "outputs": [
    {
     "data": {
      "text/html": [
       "<div>\n",
       "<style scoped>\n",
       "    .dataframe tbody tr th:only-of-type {\n",
       "        vertical-align: middle;\n",
       "    }\n",
       "\n",
       "    .dataframe tbody tr th {\n",
       "        vertical-align: top;\n",
       "    }\n",
       "\n",
       "    .dataframe thead th {\n",
       "        text-align: right;\n",
       "    }\n",
       "</style>\n",
       "<table border=\"1\" class=\"dataframe\">\n",
       "  <thead>\n",
       "    <tr style=\"text-align: right;\">\n",
       "      <th></th>\n",
       "      <th>Borough</th>\n",
       "      <th>Postal Code</th>\n",
       "      <th>Neighbourhood</th>\n",
       "      <th>Latitude</th>\n",
       "      <th>Longitude</th>\n",
       "    </tr>\n",
       "  </thead>\n",
       "  <tbody>\n",
       "    <tr>\n",
       "      <th>0</th>\n",
       "      <td>Central Toronto</td>\n",
       "      <td>M4N</td>\n",
       "      <td>Lawrence Park</td>\n",
       "      <td>43.728020</td>\n",
       "      <td>-79.388790</td>\n",
       "    </tr>\n",
       "    <tr>\n",
       "      <th>1</th>\n",
       "      <td>Central Toronto</td>\n",
       "      <td>M4P</td>\n",
       "      <td>Davisville North</td>\n",
       "      <td>43.712751</td>\n",
       "      <td>-79.390197</td>\n",
       "    </tr>\n",
       "    <tr>\n",
       "      <th>2</th>\n",
       "      <td>Central Toronto</td>\n",
       "      <td>M4R</td>\n",
       "      <td>North Toronto West, Lawrence Park</td>\n",
       "      <td>43.715383</td>\n",
       "      <td>-79.405678</td>\n",
       "    </tr>\n",
       "    <tr>\n",
       "      <th>3</th>\n",
       "      <td>Central Toronto</td>\n",
       "      <td>M4S</td>\n",
       "      <td>Davisville</td>\n",
       "      <td>43.704324</td>\n",
       "      <td>-79.388790</td>\n",
       "    </tr>\n",
       "    <tr>\n",
       "      <th>4</th>\n",
       "      <td>Central Toronto</td>\n",
       "      <td>M4T</td>\n",
       "      <td>Moore Park, Summerhill East</td>\n",
       "      <td>43.689574</td>\n",
       "      <td>-79.383160</td>\n",
       "    </tr>\n",
       "  </tbody>\n",
       "</table>\n",
       "</div>"
      ],
      "text/plain": [
       "           Borough Postal Code                      Neighbourhood   Latitude  \\\n",
       "0  Central Toronto         M4N                      Lawrence Park  43.728020   \n",
       "1  Central Toronto         M4P                   Davisville North  43.712751   \n",
       "2  Central Toronto         M4R  North Toronto West, Lawrence Park  43.715383   \n",
       "3  Central Toronto         M4S                         Davisville  43.704324   \n",
       "4  Central Toronto         M4T        Moore Park, Summerhill East  43.689574   \n",
       "\n",
       "   Longitude  \n",
       "0 -79.388790  \n",
       "1 -79.390197  \n",
       "2 -79.405678  \n",
       "3 -79.388790  \n",
       "4 -79.383160  "
      ]
     },
     "execution_count": 15,
     "metadata": {},
     "output_type": "execute_result"
    }
   ],
   "source": [
    "merged_data.head()"
   ]
  },
  {
   "cell_type": "markdown",
   "metadata": {},
   "source": [
    "## Part 3 - Clustering Neighbourhoods"
   ]
  },
  {
   "cell_type": "code",
   "execution_count": 16,
   "metadata": {},
   "outputs": [
    {
     "data": {
      "text/html": [
       "<div>\n",
       "<style scoped>\n",
       "    .dataframe tbody tr th:only-of-type {\n",
       "        vertical-align: middle;\n",
       "    }\n",
       "\n",
       "    .dataframe tbody tr th {\n",
       "        vertical-align: top;\n",
       "    }\n",
       "\n",
       "    .dataframe thead th {\n",
       "        text-align: right;\n",
       "    }\n",
       "</style>\n",
       "<table border=\"1\" class=\"dataframe\">\n",
       "  <thead>\n",
       "    <tr style=\"text-align: right;\">\n",
       "      <th></th>\n",
       "      <th>Borough</th>\n",
       "      <th>Postal Code</th>\n",
       "      <th>Neighbourhood</th>\n",
       "      <th>Latitude</th>\n",
       "      <th>Longitude</th>\n",
       "    </tr>\n",
       "  </thead>\n",
       "  <tbody>\n",
       "    <tr>\n",
       "      <th>0</th>\n",
       "      <td>Central Toronto</td>\n",
       "      <td>M4N</td>\n",
       "      <td>Lawrence Park</td>\n",
       "      <td>43.728020</td>\n",
       "      <td>-79.388790</td>\n",
       "    </tr>\n",
       "    <tr>\n",
       "      <th>1</th>\n",
       "      <td>Central Toronto</td>\n",
       "      <td>M4P</td>\n",
       "      <td>Davisville North</td>\n",
       "      <td>43.712751</td>\n",
       "      <td>-79.390197</td>\n",
       "    </tr>\n",
       "    <tr>\n",
       "      <th>2</th>\n",
       "      <td>Central Toronto</td>\n",
       "      <td>M4R</td>\n",
       "      <td>North Toronto West, Lawrence Park</td>\n",
       "      <td>43.715383</td>\n",
       "      <td>-79.405678</td>\n",
       "    </tr>\n",
       "    <tr>\n",
       "      <th>3</th>\n",
       "      <td>Central Toronto</td>\n",
       "      <td>M4S</td>\n",
       "      <td>Davisville</td>\n",
       "      <td>43.704324</td>\n",
       "      <td>-79.388790</td>\n",
       "    </tr>\n",
       "    <tr>\n",
       "      <th>4</th>\n",
       "      <td>Central Toronto</td>\n",
       "      <td>M4T</td>\n",
       "      <td>Moore Park, Summerhill East</td>\n",
       "      <td>43.689574</td>\n",
       "      <td>-79.383160</td>\n",
       "    </tr>\n",
       "  </tbody>\n",
       "</table>\n",
       "</div>"
      ],
      "text/plain": [
       "           Borough Postal Code                      Neighbourhood   Latitude  \\\n",
       "0  Central Toronto         M4N                      Lawrence Park  43.728020   \n",
       "1  Central Toronto         M4P                   Davisville North  43.712751   \n",
       "2  Central Toronto         M4R  North Toronto West, Lawrence Park  43.715383   \n",
       "3  Central Toronto         M4S                         Davisville  43.704324   \n",
       "4  Central Toronto         M4T        Moore Park, Summerhill East  43.689574   \n",
       "\n",
       "   Longitude  \n",
       "0 -79.388790  \n",
       "1 -79.390197  \n",
       "2 -79.405678  \n",
       "3 -79.388790  \n",
       "4 -79.383160  "
      ]
     },
     "execution_count": 16,
     "metadata": {},
     "output_type": "execute_result"
    }
   ],
   "source": [
    "dfT=merged_data.copy()\n",
    "dfT=dfT[merged_data.Borough.str.contains(\"Toronto\")]\n",
    "dfT.head()"
   ]
  },
  {
   "cell_type": "code",
   "execution_count": 18,
   "metadata": {},
   "outputs": [
    {
     "name": "stdout",
     "output_type": "stream",
     "text": [
      "Collecting folium\n",
      "  Downloading folium-0.11.0-py2.py3-none-any.whl (93 kB)\n",
      "\u001b[K     |████████████████████████████████| 93 kB 2.2 MB/s eta 0:00:011\n",
      "\u001b[?25hCollecting branca>=0.3.0\n",
      "  Downloading branca-0.4.1-py3-none-any.whl (24 kB)\n",
      "Requirement already satisfied: requests in /opt/conda/envs/Python-3.7-main/lib/python3.7/site-packages (from folium) (2.24.0)\n",
      "Requirement already satisfied: numpy in /opt/conda/envs/Python-3.7-main/lib/python3.7/site-packages (from folium) (1.18.5)\n",
      "Requirement already satisfied: jinja2>=2.9 in /opt/conda/envs/Python-3.7-main/lib/python3.7/site-packages (from folium) (2.11.2)\n",
      "Requirement already satisfied: certifi>=2017.4.17 in /opt/conda/envs/Python-3.7-main/lib/python3.7/site-packages (from requests->folium) (2020.6.20)\n",
      "Requirement already satisfied: chardet<4,>=3.0.2 in /opt/conda/envs/Python-3.7-main/lib/python3.7/site-packages (from requests->folium) (3.0.4)\n",
      "Requirement already satisfied: idna<3,>=2.5 in /opt/conda/envs/Python-3.7-main/lib/python3.7/site-packages (from requests->folium) (2.9)\n",
      "Requirement already satisfied: urllib3!=1.25.0,!=1.25.1,<1.26,>=1.21.1 in /opt/conda/envs/Python-3.7-main/lib/python3.7/site-packages (from requests->folium) (1.25.9)\n",
      "Requirement already satisfied: MarkupSafe>=0.23 in /opt/conda/envs/Python-3.7-main/lib/python3.7/site-packages (from jinja2>=2.9->folium) (1.1.1)\n",
      "Installing collected packages: branca, folium\n",
      "Successfully installed branca-0.4.1 folium-0.11.0\n"
     ]
    }
   ],
   "source": [
    "!pip install folium\n",
    "import folium\n",
    "\n",
    "import json\n"
   ]
  },
  {
   "cell_type": "code",
   "execution_count": 19,
   "metadata": {},
   "outputs": [],
   "source": [
    "from sklearn.cluster import KMeans"
   ]
  },
  {
   "cell_type": "code",
   "execution_count": 22,
   "metadata": {},
   "outputs": [
    {
     "data": {
      "text/html": [
       "<div style=\"width:100%;\"><div style=\"position:relative;width:100%;height:0;padding-bottom:60%;\"><span style=\"color:#565656\">Make this Notebook Trusted to load map: File -> Trust Notebook</span><iframe src=\"about:blank\" style=\"position:absolute;width:100%;height:100%;left:0;top:0;border:none !important;\" data-html=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 onload=\"this.contentDocument.open();this.contentDocument.write(atob(this.getAttribute('data-html')));this.contentDocument.close();\" allowfullscreen webkitallowfullscreen mozallowfullscreen></iframe></div></div>"
      ],
      "text/plain": [
       "<folium.folium.Map at 0x7fd8cd12e1d0>"
      ]
     },
     "execution_count": 22,
     "metadata": {},
     "output_type": "execute_result"
    }
   ],
   "source": [
    "toronto_map = folium.Map(location=[43.65, -79.4], zoom_start=12)\n",
    "\n",
    "X = dfT['Latitude']\n",
    "Y = dfT['Longitude']\n",
    "Z = np.stack((X, Y), axis=1)\n",
    "\n",
    "kmeans = KMeans(n_clusters=4, random_state=0).fit(Z)\n",
    "\n",
    "clusters = kmeans.labels_\n",
    "colors = ['red', 'green', 'blue', 'yellow']\n",
    "dfT['Cluster'] = clusters\n",
    "\n",
    "for latitude, longitude, borough, cluster in zip(dfT['Latitude'], dfT['Longitude'], dfT['Borough'], dfT['Cluster']):\n",
    "    label = folium.Popup(borough, parse_html=True)\n",
    "    folium.CircleMarker(\n",
    "        [latitude, longitude],\n",
    "        radius=5,\n",
    "        popup=label,\n",
    "        color='black',\n",
    "        fill=True,\n",
    "        fill_color=colors[cluster],\n",
    "        fill_opacity=0.7).add_to(toronto_map)  \n",
    "\n",
    "toronto_map"
   ]
  },
  {
   "cell_type": "code",
   "execution_count": null,
   "metadata": {},
   "outputs": [],
   "source": []
  }
 ],
 "metadata": {
  "kernelspec": {
   "display_name": "Python 3.7",
   "language": "python",
   "name": "python3"
  }
 },
 "nbformat": 4,
 "nbformat_minor": 1
}
